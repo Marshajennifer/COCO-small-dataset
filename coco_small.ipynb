{
  "nbformat": 4,
  "nbformat_minor": 0,
  "metadata": {
    "colab": {
      "provenance": []
    },
    "kernelspec": {
      "name": "python3",
      "display_name": "Python 3"
    },
    "language_info": {
      "name": "python"
    }
  },
  "cells": [
    {
      "cell_type": "code",
      "execution_count": null,
      "metadata": {
        "id": "VENbz9KKc_UX"
      },
      "outputs": [],
      "source": [
        "#To download images of person alone , we can set number of images we want to download too.\n",
        "import os\n",
        "import requests\n",
        "from pycocotools.coco import COCO\n",
        "from tqdm import tqdm\n",
        "\n",
        "# Define paths\n",
        "annotations_file = '/path/to/person_keypoints_train2017.json'  # Enter Path to COCO annotations\n",
        "output_dir = '/path/to/coco/coco_person_images'  # Enter path to directory to save images\n",
        "\n",
        "# Create output directory if it doesn't exist\n",
        "os.makedirs(output_dir, exist_ok=True)\n",
        "\n",
        "# Load COCO annotations\n",
        "coco = COCO(annotations_file)\n",
        "\n",
        "# Get all person category image IDs\n",
        "cat_ids = coco.getCatIds(catNms=['person'])\n",
        "img_ids = coco.getImgIds(catIds=cat_ids)\n",
        "\n",
        "# Filter images to only include those that contain only person keypoints\n",
        "filtered_img_ids = []\n",
        "for img_id in tqdm(img_ids):\n",
        "    ann_ids = coco.getAnnIds(imgIds=img_id, catIds=cat_ids)\n",
        "    anns = coco.loadAnns(ann_ids)\n",
        "\n",
        "    # Check if all annotations in this image are persons\n",
        "    if all(ann['category_id'] == 1 for ann in anns):  # COCO 'person' category_id is 1\n",
        "        filtered_img_ids.append(img_id)\n",
        "\n",
        "    if len(filtered_img_ids) >= 15000: #Enter number of person images you want\n",
        "        break\n",
        "\n",
        "# Download images\n",
        "for img_id in tqdm(filtered_img_ids):\n",
        "    img_info = coco.loadImgs(img_id)[0]\n",
        "    img_url = img_info['coco_url']\n",
        "    img_filename = os.path.join(output_dir, img_info['file_name'])\n",
        "\n",
        "    if not os.path.exists(img_filename):\n",
        "        # Download and save the image\n",
        "        img_data = requests.get(img_url).content\n",
        "        with open(img_filename, 'wb') as f:\n",
        "            f.write(img_data)\n",
        "\n",
        "print(f'Downloaded {len(filtered_img_ids)} images to {output_dir}')\n"
      ]
    }
  ]
}